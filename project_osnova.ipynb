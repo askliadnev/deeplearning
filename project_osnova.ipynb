{
  "nbformat": 4,
  "nbformat_minor": 0,
  "metadata": {
    "colab": {
      "provenance": [],
      "gpuType": "T4"
    },
    "kernelspec": {
      "name": "python3",
      "display_name": "Python 3"
    },
    "language_info": {
      "name": "python"
    },
    "accelerator": "GPU"
  },
  "cells": [
    {
      "cell_type": "markdown",
      "source": [
        "# ИНСТРУКЦИЯ\n",
        "перед запуском кода необходимо загрузить в среду файл project_update-osnova.py"
      ],
      "metadata": {
        "id": "WZ0i7eVjwG4j"
      }
    },
    {
      "cell_type": "code",
      "source": [
        "!pip install streamlit pyngrok --quiet"
      ],
      "metadata": {
        "colab": {
          "base_uri": "https://localhost:8080/"
        },
        "id": "o7rQO12-8Xt3",
        "outputId": "911f34ef-4847-4b27-d3a2-6849a1b4e789"
      },
      "execution_count": 1,
      "outputs": [
        {
          "output_type": "stream",
          "name": "stdout",
          "text": [
            "\u001b[2K     \u001b[90m━━━━━━━━━━━━━━━━━━━━━━━━━━━━━━━━━━━━━━━━\u001b[0m \u001b[32m44.3/44.3 kB\u001b[0m \u001b[31m2.7 MB/s\u001b[0m eta \u001b[36m0:00:00\u001b[0m\n",
            "\u001b[2K   \u001b[90m━━━━━━━━━━━━━━━━━━━━━━━━━━━━━━━━━━━━━━━━\u001b[0m \u001b[32m9.9/9.9 MB\u001b[0m \u001b[31m91.9 MB/s\u001b[0m eta \u001b[36m0:00:00\u001b[0m\n",
            "\u001b[2K   \u001b[90m━━━━━━━━━━━━━━━━━━━━━━━━━━━━━━━━━━━━━━━━\u001b[0m \u001b[32m6.9/6.9 MB\u001b[0m \u001b[31m125.8 MB/s\u001b[0m eta \u001b[36m0:00:00\u001b[0m\n",
            "\u001b[2K   \u001b[90m━━━━━━━━━━━━━━━━━━━━━━━━━━━━━━━━━━━━━━━━\u001b[0m \u001b[32m79.1/79.1 kB\u001b[0m \u001b[31m8.1 MB/s\u001b[0m eta \u001b[36m0:00:00\u001b[0m\n",
            "\u001b[?25h"
          ]
        }
      ]
    },
    {
      "cell_type": "code",
      "source": [
        "!ngrok config add-authtoken 2xrRRZKJrMVN1qYzB9gfkaVX0qr_uk1jP9YuiwXNrMVHP9qz"
      ],
      "metadata": {
        "colab": {
          "base_uri": "https://localhost:8080/"
        },
        "id": "MwRpt39_8f_l",
        "outputId": "8fb390d3-13d2-4aba-cbde-3ba8dc90b7fe"
      },
      "execution_count": 2,
      "outputs": [
        {
          "output_type": "stream",
          "name": "stdout",
          "text": [
            "Authtoken saved to configuration file: /root/.config/ngrok/ngrok.yml\n"
          ]
        }
      ]
    },
    {
      "cell_type": "code",
      "source": [
        "from pydrive.auth import GoogleAuth\n",
        "from pydrive.drive import GoogleDrive\n",
        "from google.colab import auth\n",
        "from oauth2client.client import GoogleCredentials\n",
        "import os\n",
        "import zipfile\n",
        "import shutil"
      ],
      "metadata": {
        "colab": {
          "base_uri": "https://localhost:8080/"
        },
        "id": "9WzayhMM_OLO",
        "outputId": "06bad12f-4b1a-4e43-daf1-cbf19ed6d960"
      },
      "execution_count": 3,
      "outputs": [
        {
          "output_type": "stream",
          "name": "stderr",
          "text": [
            "WARNING:root:pydrive is deprecated and no longer maintained. We recommend that you migrate your projects to pydrive2, the maintained fork of pydrive\n"
          ]
        }
      ]
    },
    {
      "cell_type": "markdown",
      "source": [
        "# ЗАГРУЗКА ПРЕДОБУЧЕННЫХ МОДЕЛЕЙ НА ДИСК\n",
        "необходимо разрешить доступ к диску (вылезет соответствующая плашка)"
      ],
      "metadata": {
        "id": "gCjaO1tVvUSP"
      }
    },
    {
      "cell_type": "code",
      "source": [
        "try:\n",
        "    auth.authenticate_user()\n",
        "    gauth = GoogleAuth()\n",
        "    gauth.credentials = GoogleCredentials.get_application_default()\n",
        "    drive = GoogleDrive(gauth)\n",
        "except Exception as auth_error:\n",
        "    print(f\"Ошибка авторизации: {auth_error}\")\n",
        "    print(\"Попробуйте: Runtime -> Restart runtime и запустите снова\")\n",
        "    raise\n",
        "\n",
        "def download_and_extract_from_gdrive(file_id, zip_name):\n",
        "\n",
        "    try:\n",
        "\n",
        "        print(f\"⏳ Скачиваем файл '{zip_name}'...\")\n",
        "        downloaded = drive.CreateFile({'id': file_id})\n",
        "        downloaded.GetContentFile(zip_name)\n",
        "\n",
        "\n",
        "        folder_name = os.path.splitext(zip_name)[0]\n",
        "        target_folder = f'/content/{folder_name}'\n",
        "\n",
        "\n",
        "        temp_folder = '/content/temp_extract'\n",
        "        os.makedirs(temp_folder, exist_ok=True)\n",
        "\n",
        "\n",
        "        print(f\"📦 Распаковываем архив...\")\n",
        "        with zipfile.ZipFile(zip_name, 'r') as zip_ref:\n",
        "            zip_ref.extractall(temp_folder)\n",
        "\n",
        "\n",
        "        extracted_items = os.listdir(temp_folder)\n",
        "\n",
        "\n",
        "        if len(extracted_items) == 1 and os.path.isdir(os.path.join(temp_folder, extracted_items[0])):\n",
        "            inner_folder = os.path.join(temp_folder, extracted_items[0])\n",
        "\n",
        "\n",
        "            shutil.move(inner_folder, target_folder)\n",
        "        else:\n",
        "\n",
        "            os.rename(temp_folder, target_folder)\n",
        "\n",
        "\n",
        "        os.remove(zip_name)\n",
        "        try:\n",
        "            os.rmdir(temp_folder)\n",
        "        except OSError:\n",
        "            pass\n",
        "\n",
        "        print(f\"✅ Готово! Модель распакована в: {target_folder}\")\n",
        "\n",
        "        return target_folder\n",
        "\n",
        "    except Exception as e:\n",
        "        print(f\"❌ Ошибка: {str(e)}\")\n",
        "        if 'zip_name' in locals() and os.path.exists(zip_name):\n",
        "            os.remove(zip_name)\n",
        "        if 'temp_folder' in locals() and os.path.exists(temp_folder):\n",
        "            shutil.rmtree(temp_folder, ignore_errors=True)\n",
        "        raise\n",
        "\n",
        "if __name__ == \"__main__\":\n",
        "    # Список моделей для загрузки\n",
        "    models_to_download = [\n",
        "        (\"1gpEKpLYoMJV7ui-Hy9BKXKJnWAdXcFIL\", \"gazeta_summarizer_mT5_m2o_russian_crossSum.zip\"),\n",
        "        (\"1BxySSxAeXOer8WHerCGQ5C3h4VdQ8zKt\", \"gazeta_summarizer_dorj.zip\"),\n",
        "        (\"1syLs1V5k5uB8Ay_6sluYqN-oKbdqSsKz\", \"gazeta_summarizer_sber_base.zip\")\n",
        "    ]\n",
        "\n",
        "    for file_id, zip_name in models_to_download:\n",
        "        print(f\"\\n{'='*50}\")\n",
        "        print(f\"Начинаем загрузку модели: {zip_name}\")\n",
        "        print(f\"{'='*50}\")\n",
        "\n",
        "        try:\n",
        "            model_path = download_and_extract_from_gdrive(file_id, zip_name)\n",
        "            print(f\"Модель {zip_name} успешно загружена и распакована в {model_path}\")\n",
        "        except Exception as e:\n",
        "            print(f\"Не удалось загрузить модель {zip_name}. Ошибка: {e}\")\n",
        "            continue"
      ],
      "metadata": {
        "colab": {
          "base_uri": "https://localhost:8080/"
        },
        "id": "bjVhSD8_-_rn",
        "outputId": "6e6476ff-4d5b-4b2c-80e1-10038ae1b40c"
      },
      "execution_count": 4,
      "outputs": [
        {
          "output_type": "stream",
          "name": "stdout",
          "text": [
            "\n",
            "==================================================\n",
            "Начинаем загрузку модели: gazeta_summarizer_mT5_m2o_russian_crossSum.zip\n",
            "==================================================\n",
            "⏳ Скачиваем файл 'gazeta_summarizer_mT5_m2o_russian_crossSum.zip'...\n",
            "📦 Распаковываем архив...\n",
            "✅ Готово! Модель распакована в: /content/gazeta_summarizer_mT5_m2o_russian_crossSum\n",
            "Модель gazeta_summarizer_mT5_m2o_russian_crossSum.zip успешно загружена и распакована в /content/gazeta_summarizer_mT5_m2o_russian_crossSum\n",
            "\n",
            "==================================================\n",
            "Начинаем загрузку модели: gazeta_summarizer_dorj.zip\n",
            "==================================================\n",
            "⏳ Скачиваем файл 'gazeta_summarizer_dorj.zip'...\n",
            "📦 Распаковываем архив...\n",
            "✅ Готово! Модель распакована в: /content/gazeta_summarizer_dorj\n",
            "Модель gazeta_summarizer_dorj.zip успешно загружена и распакована в /content/gazeta_summarizer_dorj\n",
            "\n",
            "==================================================\n",
            "Начинаем загрузку модели: gazeta_summarizer_sber_base.zip\n",
            "==================================================\n",
            "⏳ Скачиваем файл 'gazeta_summarizer_sber_base.zip'...\n",
            "📦 Распаковываем архив...\n",
            "✅ Готово! Модель распакована в: /content/gazeta_summarizer_sber_base\n",
            "Модель gazeta_summarizer_sber_base.zip успешно загружена и распакована в /content/gazeta_summarizer_sber_base\n"
          ]
        }
      ]
    },
    {
      "cell_type": "code",
      "execution_count": 7,
      "metadata": {
        "colab": {
          "base_uri": "https://localhost:8080/"
        },
        "id": "SLOdFF1g8CzV",
        "outputId": "7d3a4364-c44d-4b71-adf9-8a666003bd19"
      },
      "outputs": [
        {
          "output_type": "stream",
          "name": "stdout",
          "text": [
            "🌍 Открой в браузере: NgrokTunnel: \"https://3a0b-34-16-174-78.ngrok-free.app\" -> \"http://localhost:8501\"\n"
          ]
        }
      ],
      "source": [
        "from pyngrok import ngrok\n",
        "import threading\n",
        "import time\n",
        "import os\n",
        "\n",
        "# Запуск Streamlit\n",
        "def run_streamlit():\n",
        "    os.system('streamlit run project_update-osnova.py')\n",
        "\n",
        "thread = threading.Thread(target=run_streamlit)\n",
        "thread.start()\n",
        "\n",
        "\n",
        "time.sleep(3)\n",
        "\n",
        "# туннель на порт 8501\n",
        "public_url = ngrok.connect(8501)\n",
        "print(f\"🌍 Открой в браузере: {public_url}\")"
      ]
    },
    {
      "cell_type": "code",
      "source": [],
      "metadata": {
        "id": "wBlS_ZdXs5tp"
      },
      "execution_count": null,
      "outputs": []
    }
  ]
}